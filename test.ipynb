{
 "cells": [
  {
   "attachments": {},
   "cell_type": "markdown",
   "metadata": {},
   "source": [
    "Q1. Explain GET and POST methods.\n",
    "Q2. Why is request used in Flask?\n",
    "Q3. Why is redirect() used in Flask?\n",
    "Q4. What are templates in Flask? Why is the render_template() function used?\n",
    "Q5. Create a simple API. Use Postman to test it. Attach the screenshot of the output in the Jupyter Notebook."
   ]
  },
  {
   "attachments": {},
   "cell_type": "markdown",
   "metadata": {},
   "source": [
    "ANS(1)\n",
    "\n",
    "GET method\n",
    "When a client sends a GET request to a server, the server responds by returning the requested data in the response body. The data can be sent as a query string appended to the URL or as part of the request headers, commonly used to retrieve web pages, images, and other resources.\n",
    "\n",
    "POST method\n",
    " When a client sends a POST request to a server, the data is sent in the request body, and the server responds with a confirmation or error message.  commonly used for form submissions, file uploads, and other types of data submission.\n",
    "\n",
    "\n",
    "\n",
    "\n",
    "\n",
    "\n"
   ]
  },
  {
   "attachments": {},
   "cell_type": "markdown",
   "metadata": {},
   "source": [
    "ANS(2)\n",
    " request is a built-in module that provides an easy way to access incoming request data in a web application. \n",
    "\n",
    " allows developers to handle different types of requests, such as GET, POST, PUT, DELETE, and others, and retrieve the necessary data for processing them.\n",
    "\n",
    "Here are some common use cases for the request module in Flask:\n",
    "\n",
    "\n",
    "\n",
    "Checking the user  IP address \n",
    "Handling file uploads submitted via a form\n",
    "\n",
    "\n",
    "\n",
    "\n",
    "\n"
   ]
  },
  {
   "attachments": {},
   "cell_type": "markdown",
   "metadata": {},
   "source": [
    "ANS(3)\n",
    "In Flask, redirect() is a built-in function that is used to redirect the user to a different URL. \n",
    "\n",
    "Redirecting the user to a different page after they have completed a form submission\n",
    "Redirecting the user to a login page if they are not logged in\n",
    " redirecting the user to a custom error page"
   ]
  },
  {
   "attachments": {},
   "cell_type": "markdown",
   "metadata": {},
   "source": [
    "ANS(4) templates are HTML files   making it easier to maintain and update the code.\n",
    "\n",
    "Flask uses the Jinja2 templating engine to render templates. Jinja2 is a flexible and powerful engine that allows developers to use templates that are easy to read and write, \n",
    "\n",
    "\n",
    "Here are some common use cases for the render_template() function in Flask:\n",
    "\n",
    "Displaying dynamic content on a web page \n",
    "Generating forms or input fields  \n",
    "\n",
    "\n",
    "\n",
    "\n",
    "\n"
   ]
  },
  {
   "attachments": {},
   "cell_type": "markdown",
   "metadata": {},
   "source": [
    "![](img1.png)"
   ]
  },
  {
   "attachments": {},
   "cell_type": "markdown",
   "metadata": {},
   "source": [
    "![](img2.png)"
   ]
  },
  {
   "attachments": {},
   "cell_type": "markdown",
   "metadata": {},
   "source": [
    "![](img5.png)"
   ]
  },
  {
   "attachments": {},
   "cell_type": "markdown",
   "metadata": {},
   "source": [
    "![](img6.png)"
   ]
  },
  {
   "cell_type": "markdown",
   "metadata": {},
   "source": []
  }
 ],
 "metadata": {
  "kernelspec": {
   "display_name": "env",
   "language": "python",
   "name": "python3"
  },
  "language_info": {
   "name": "python",
   "version": "3.11.1"
  },
  "orig_nbformat": 4,
  "vscode": {
   "interpreter": {
    "hash": "3adaedbd84824f2b9e5f93338328f9a340dbafd2337b5f88a6acb608261ae75b"
   }
  }
 },
 "nbformat": 4,
 "nbformat_minor": 2
}
